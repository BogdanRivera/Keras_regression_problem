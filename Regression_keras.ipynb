{
  "nbformat": 4,
  "nbformat_minor": 0,
  "metadata": {
    "colab": {
      "provenance": []
    },
    "kernelspec": {
      "name": "python3",
      "display_name": "Python 3"
    },
    "language_info": {
      "name": "python"
    }
  },
  "cells": [
    {
      "cell_type": "markdown",
      "source": [
        "# Regression problem with Keras\n",
        "In this project a dataset from construction is used. The predictors are Cement, Blast Furnace Slag, Fly Ash, Water, Superplasticizer, Coarse Aggregate, Fine Aggregate and Age. The target is predict the Strength of the construction. A Neuronal network created in Keras is used to predict the value.  "
      ],
      "metadata": {
        "id": "U6zl2S9PYTZ2"
      }
    },
    {
      "cell_type": "code",
      "execution_count": 34,
      "metadata": {
        "id": "5saOvPyw5YfZ"
      },
      "outputs": [],
      "source": [
        "import pandas as pd\n",
        "import numpy as np\n",
        "from keras.models import Sequential\n",
        "from keras.layers import Dense\n",
        "from sklearn.preprocessing import StandardScaler"
      ]
    },
    {
      "cell_type": "code",
      "source": [
        "data = pd.read_csv('https://s3-api.us-geo.objectstorage.softlayer.net/cf-courses-data/CognitiveClass/DL0101EN/labs/data/concrete_data.csv')\n",
        "data.head()"
      ],
      "metadata": {
        "colab": {
          "base_uri": "https://localhost:8080/",
          "height": 206
        },
        "id": "LIxIx3eI5vNd",
        "outputId": "fe832102-073c-4171-a4c6-36afb6015777"
      },
      "execution_count": 5,
      "outputs": [
        {
          "output_type": "execute_result",
          "data": {
            "text/plain": [
              "   Cement  Blast Furnace Slag  Fly Ash  Water  Superplasticizer  \\\n",
              "0   540.0                 0.0      0.0  162.0               2.5   \n",
              "1   540.0                 0.0      0.0  162.0               2.5   \n",
              "2   332.5               142.5      0.0  228.0               0.0   \n",
              "3   332.5               142.5      0.0  228.0               0.0   \n",
              "4   198.6               132.4      0.0  192.0               0.0   \n",
              "\n",
              "   Coarse Aggregate  Fine Aggregate  Age  Strength  \n",
              "0            1040.0           676.0   28     79.99  \n",
              "1            1055.0           676.0   28     61.89  \n",
              "2             932.0           594.0  270     40.27  \n",
              "3             932.0           594.0  365     41.05  \n",
              "4             978.4           825.5  360     44.30  "
            ],
            "text/html": [
              "\n",
              "\n",
              "  <div id=\"df-3c0ec3e3-5d88-41b4-b4a4-ba6638d9fd0a\">\n",
              "    <div class=\"colab-df-container\">\n",
              "      <div>\n",
              "<style scoped>\n",
              "    .dataframe tbody tr th:only-of-type {\n",
              "        vertical-align: middle;\n",
              "    }\n",
              "\n",
              "    .dataframe tbody tr th {\n",
              "        vertical-align: top;\n",
              "    }\n",
              "\n",
              "    .dataframe thead th {\n",
              "        text-align: right;\n",
              "    }\n",
              "</style>\n",
              "<table border=\"1\" class=\"dataframe\">\n",
              "  <thead>\n",
              "    <tr style=\"text-align: right;\">\n",
              "      <th></th>\n",
              "      <th>Cement</th>\n",
              "      <th>Blast Furnace Slag</th>\n",
              "      <th>Fly Ash</th>\n",
              "      <th>Water</th>\n",
              "      <th>Superplasticizer</th>\n",
              "      <th>Coarse Aggregate</th>\n",
              "      <th>Fine Aggregate</th>\n",
              "      <th>Age</th>\n",
              "      <th>Strength</th>\n",
              "    </tr>\n",
              "  </thead>\n",
              "  <tbody>\n",
              "    <tr>\n",
              "      <th>0</th>\n",
              "      <td>540.0</td>\n",
              "      <td>0.0</td>\n",
              "      <td>0.0</td>\n",
              "      <td>162.0</td>\n",
              "      <td>2.5</td>\n",
              "      <td>1040.0</td>\n",
              "      <td>676.0</td>\n",
              "      <td>28</td>\n",
              "      <td>79.99</td>\n",
              "    </tr>\n",
              "    <tr>\n",
              "      <th>1</th>\n",
              "      <td>540.0</td>\n",
              "      <td>0.0</td>\n",
              "      <td>0.0</td>\n",
              "      <td>162.0</td>\n",
              "      <td>2.5</td>\n",
              "      <td>1055.0</td>\n",
              "      <td>676.0</td>\n",
              "      <td>28</td>\n",
              "      <td>61.89</td>\n",
              "    </tr>\n",
              "    <tr>\n",
              "      <th>2</th>\n",
              "      <td>332.5</td>\n",
              "      <td>142.5</td>\n",
              "      <td>0.0</td>\n",
              "      <td>228.0</td>\n",
              "      <td>0.0</td>\n",
              "      <td>932.0</td>\n",
              "      <td>594.0</td>\n",
              "      <td>270</td>\n",
              "      <td>40.27</td>\n",
              "    </tr>\n",
              "    <tr>\n",
              "      <th>3</th>\n",
              "      <td>332.5</td>\n",
              "      <td>142.5</td>\n",
              "      <td>0.0</td>\n",
              "      <td>228.0</td>\n",
              "      <td>0.0</td>\n",
              "      <td>932.0</td>\n",
              "      <td>594.0</td>\n",
              "      <td>365</td>\n",
              "      <td>41.05</td>\n",
              "    </tr>\n",
              "    <tr>\n",
              "      <th>4</th>\n",
              "      <td>198.6</td>\n",
              "      <td>132.4</td>\n",
              "      <td>0.0</td>\n",
              "      <td>192.0</td>\n",
              "      <td>0.0</td>\n",
              "      <td>978.4</td>\n",
              "      <td>825.5</td>\n",
              "      <td>360</td>\n",
              "      <td>44.30</td>\n",
              "    </tr>\n",
              "  </tbody>\n",
              "</table>\n",
              "</div>\n",
              "      <button class=\"colab-df-convert\" onclick=\"convertToInteractive('df-3c0ec3e3-5d88-41b4-b4a4-ba6638d9fd0a')\"\n",
              "              title=\"Convert this dataframe to an interactive table.\"\n",
              "              style=\"display:none;\">\n",
              "\n",
              "  <svg xmlns=\"http://www.w3.org/2000/svg\" height=\"24px\"viewBox=\"0 0 24 24\"\n",
              "       width=\"24px\">\n",
              "    <path d=\"M0 0h24v24H0V0z\" fill=\"none\"/>\n",
              "    <path d=\"M18.56 5.44l.94 2.06.94-2.06 2.06-.94-2.06-.94-.94-2.06-.94 2.06-2.06.94zm-11 1L8.5 8.5l.94-2.06 2.06-.94-2.06-.94L8.5 2.5l-.94 2.06-2.06.94zm10 10l.94 2.06.94-2.06 2.06-.94-2.06-.94-.94-2.06-.94 2.06-2.06.94z\"/><path d=\"M17.41 7.96l-1.37-1.37c-.4-.4-.92-.59-1.43-.59-.52 0-1.04.2-1.43.59L10.3 9.45l-7.72 7.72c-.78.78-.78 2.05 0 2.83L4 21.41c.39.39.9.59 1.41.59.51 0 1.02-.2 1.41-.59l7.78-7.78 2.81-2.81c.8-.78.8-2.07 0-2.86zM5.41 20L4 18.59l7.72-7.72 1.47 1.35L5.41 20z\"/>\n",
              "  </svg>\n",
              "      </button>\n",
              "\n",
              "\n",
              "\n",
              "    <div id=\"df-57cb82f5-8da6-412c-afe9-a3e68a7c616c\">\n",
              "      <button class=\"colab-df-quickchart\" onclick=\"quickchart('df-57cb82f5-8da6-412c-afe9-a3e68a7c616c')\"\n",
              "              title=\"Suggest charts.\"\n",
              "              style=\"display:none;\">\n",
              "\n",
              "<svg xmlns=\"http://www.w3.org/2000/svg\" height=\"24px\"viewBox=\"0 0 24 24\"\n",
              "     width=\"24px\">\n",
              "    <g>\n",
              "        <path d=\"M19 3H5c-1.1 0-2 .9-2 2v14c0 1.1.9 2 2 2h14c1.1 0 2-.9 2-2V5c0-1.1-.9-2-2-2zM9 17H7v-7h2v7zm4 0h-2V7h2v10zm4 0h-2v-4h2v4z\"/>\n",
              "    </g>\n",
              "</svg>\n",
              "      </button>\n",
              "    </div>\n",
              "\n",
              "<style>\n",
              "  .colab-df-quickchart {\n",
              "    background-color: #E8F0FE;\n",
              "    border: none;\n",
              "    border-radius: 50%;\n",
              "    cursor: pointer;\n",
              "    display: none;\n",
              "    fill: #1967D2;\n",
              "    height: 32px;\n",
              "    padding: 0 0 0 0;\n",
              "    width: 32px;\n",
              "  }\n",
              "\n",
              "  .colab-df-quickchart:hover {\n",
              "    background-color: #E2EBFA;\n",
              "    box-shadow: 0px 1px 2px rgba(60, 64, 67, 0.3), 0px 1px 3px 1px rgba(60, 64, 67, 0.15);\n",
              "    fill: #174EA6;\n",
              "  }\n",
              "\n",
              "  [theme=dark] .colab-df-quickchart {\n",
              "    background-color: #3B4455;\n",
              "    fill: #D2E3FC;\n",
              "  }\n",
              "\n",
              "  [theme=dark] .colab-df-quickchart:hover {\n",
              "    background-color: #434B5C;\n",
              "    box-shadow: 0px 1px 3px 1px rgba(0, 0, 0, 0.15);\n",
              "    filter: drop-shadow(0px 1px 2px rgba(0, 0, 0, 0.3));\n",
              "    fill: #FFFFFF;\n",
              "  }\n",
              "</style>\n",
              "\n",
              "    <script>\n",
              "      async function quickchart(key) {\n",
              "        const containerElement = document.querySelector('#' + key);\n",
              "        const charts = await google.colab.kernel.invokeFunction(\n",
              "            'suggestCharts', [key], {});\n",
              "      }\n",
              "    </script>\n",
              "\n",
              "      <script>\n",
              "\n",
              "function displayQuickchartButton(domScope) {\n",
              "  let quickchartButtonEl =\n",
              "    domScope.querySelector('#df-57cb82f5-8da6-412c-afe9-a3e68a7c616c button.colab-df-quickchart');\n",
              "  quickchartButtonEl.style.display =\n",
              "    google.colab.kernel.accessAllowed ? 'block' : 'none';\n",
              "}\n",
              "\n",
              "        displayQuickchartButton(document);\n",
              "      </script>\n",
              "      <style>\n",
              "    .colab-df-container {\n",
              "      display:flex;\n",
              "      flex-wrap:wrap;\n",
              "      gap: 12px;\n",
              "    }\n",
              "\n",
              "    .colab-df-convert {\n",
              "      background-color: #E8F0FE;\n",
              "      border: none;\n",
              "      border-radius: 50%;\n",
              "      cursor: pointer;\n",
              "      display: none;\n",
              "      fill: #1967D2;\n",
              "      height: 32px;\n",
              "      padding: 0 0 0 0;\n",
              "      width: 32px;\n",
              "    }\n",
              "\n",
              "    .colab-df-convert:hover {\n",
              "      background-color: #E2EBFA;\n",
              "      box-shadow: 0px 1px 2px rgba(60, 64, 67, 0.3), 0px 1px 3px 1px rgba(60, 64, 67, 0.15);\n",
              "      fill: #174EA6;\n",
              "    }\n",
              "\n",
              "    [theme=dark] .colab-df-convert {\n",
              "      background-color: #3B4455;\n",
              "      fill: #D2E3FC;\n",
              "    }\n",
              "\n",
              "    [theme=dark] .colab-df-convert:hover {\n",
              "      background-color: #434B5C;\n",
              "      box-shadow: 0px 1px 3px 1px rgba(0, 0, 0, 0.15);\n",
              "      filter: drop-shadow(0px 1px 2px rgba(0, 0, 0, 0.3));\n",
              "      fill: #FFFFFF;\n",
              "    }\n",
              "  </style>\n",
              "\n",
              "      <script>\n",
              "        const buttonEl =\n",
              "          document.querySelector('#df-3c0ec3e3-5d88-41b4-b4a4-ba6638d9fd0a button.colab-df-convert');\n",
              "        buttonEl.style.display =\n",
              "          google.colab.kernel.accessAllowed ? 'block' : 'none';\n",
              "\n",
              "        async function convertToInteractive(key) {\n",
              "          const element = document.querySelector('#df-3c0ec3e3-5d88-41b4-b4a4-ba6638d9fd0a');\n",
              "          const dataTable =\n",
              "            await google.colab.kernel.invokeFunction('convertToInteractive',\n",
              "                                                     [key], {});\n",
              "          if (!dataTable) return;\n",
              "\n",
              "          const docLinkHtml = 'Like what you see? Visit the ' +\n",
              "            '<a target=\"_blank\" href=https://colab.research.google.com/notebooks/data_table.ipynb>data table notebook</a>'\n",
              "            + ' to learn more about interactive tables.';\n",
              "          element.innerHTML = '';\n",
              "          dataTable['output_type'] = 'display_data';\n",
              "          await google.colab.output.renderOutput(dataTable, element);\n",
              "          const docLink = document.createElement('div');\n",
              "          docLink.innerHTML = docLinkHtml;\n",
              "          element.appendChild(docLink);\n",
              "        }\n",
              "      </script>\n",
              "    </div>\n",
              "  </div>\n"
            ]
          },
          "metadata": {},
          "execution_count": 5
        }
      ]
    },
    {
      "cell_type": "code",
      "source": [
        "print(data.shape)\n",
        "data.isnull().sum() #View if null data is in the dataset"
      ],
      "metadata": {
        "colab": {
          "base_uri": "https://localhost:8080/"
        },
        "id": "IBSlcxLt5964",
        "outputId": "82745b65-7ecb-4e9e-a64e-acc6e3ebbfc5"
      },
      "execution_count": 14,
      "outputs": [
        {
          "output_type": "stream",
          "name": "stdout",
          "text": [
            "(1030, 9)\n"
          ]
        },
        {
          "output_type": "execute_result",
          "data": {
            "text/plain": [
              "Cement                0\n",
              "Blast Furnace Slag    0\n",
              "Fly Ash               0\n",
              "Water                 0\n",
              "Superplasticizer      0\n",
              "Coarse Aggregate      0\n",
              "Fine Aggregate        0\n",
              "Age                   0\n",
              "Strength              0\n",
              "dtype: int64"
            ]
          },
          "metadata": {},
          "execution_count": 14
        }
      ]
    },
    {
      "cell_type": "code",
      "source": [
        "columns = data.columns\n",
        "predictors = data[columns[columns!='Strength']] #All columns except Strength\n",
        "target = data['Strength'] #Only strength values"
      ],
      "metadata": {
        "id": "AwWJgI0D6HCD"
      },
      "execution_count": 23,
      "outputs": []
    },
    {
      "cell_type": "code",
      "source": [
        "#Data scaled\n",
        "predictors_scaled = StandardScaler().fit_transform(predictors)  #Scale of data\n",
        "predictors_scaled"
      ],
      "metadata": {
        "colab": {
          "base_uri": "https://localhost:8080/"
        },
        "id": "RMV0glrY6T-W",
        "outputId": "1bd99e7d-8916-4b07-dd80-30876cadcf41"
      },
      "execution_count": 31,
      "outputs": [
        {
          "output_type": "execute_result",
          "data": {
            "text/plain": [
              "array([[ 2.47791487, -0.85688789, -0.84714393, ...,  0.86315424,\n",
              "        -1.21767004, -0.27973311],\n",
              "       [ 2.47791487, -0.85688789, -0.84714393, ...,  1.05616419,\n",
              "        -1.21767004, -0.27973311],\n",
              "       [ 0.49142531,  0.79552649, -0.84714393, ..., -0.52651741,\n",
              "        -2.24091709,  3.55306569],\n",
              "       ...,\n",
              "       [-1.27008832,  0.75957923,  0.85063487, ..., -1.03606368,\n",
              "         0.0801067 , -0.27973311],\n",
              "       [-1.16860982,  1.30806485, -0.84714393, ...,  0.21464081,\n",
              "         0.19116644, -0.27973311],\n",
              "       [-0.19403325,  0.30849909,  0.3769452 , ..., -1.39506219,\n",
              "        -0.15074782, -0.27973311]])"
            ]
          },
          "metadata": {},
          "execution_count": 31
        }
      ]
    },
    {
      "cell_type": "code",
      "source": [
        "n_cols = predictors_scaled.shape[1] #Number of columns\n",
        "n_cols"
      ],
      "metadata": {
        "colab": {
          "base_uri": "https://localhost:8080/"
        },
        "id": "90WGSBwDOpp8",
        "outputId": "2035cd7b-b2b9-4b5b-fee0-e527fc62488b"
      },
      "execution_count": 33,
      "outputs": [
        {
          "output_type": "execute_result",
          "data": {
            "text/plain": [
              "8"
            ]
          },
          "metadata": {},
          "execution_count": 33
        }
      ]
    },
    {
      "cell_type": "code",
      "source": [
        "def regresion_model():\n",
        "  model = Sequential() #Create Neuronal Network\n",
        "  model.add(Dense(40,activation='relu', input_shape=(n_cols,))) #Add first hidden layer w\n",
        "  model.add(Dense(50, activation='relu')) # Add second hidden layer\n",
        "  model.add(Dense(1)) #Output\n",
        "  model.compile(optimizer='adam', loss='mean_squared_error') #Compile the Neuronal Network\n",
        "  return model"
      ],
      "metadata": {
        "id": "XZJCuzlgSFjO"
      },
      "execution_count": 36,
      "outputs": []
    },
    {
      "cell_type": "code",
      "source": [
        "model = regresion_model()\n",
        "model.fit(predictors_scaled,target,validation_split=0.3,epochs = 100,verbose = 2) #Training model"
      ],
      "metadata": {
        "colab": {
          "base_uri": "https://localhost:8080/"
        },
        "id": "S0qJZdOLVNih",
        "outputId": "25664a24-946d-4462-fd83-2536f7ffe763"
      },
      "execution_count": 37,
      "outputs": [
        {
          "output_type": "stream",
          "name": "stdout",
          "text": [
            "Epoch 1/100\n",
            "23/23 - 1s - loss: 1681.0696 - val_loss: 1182.1172 - 1s/epoch - 57ms/step\n",
            "Epoch 2/100\n",
            "23/23 - 0s - loss: 1595.7046 - val_loss: 1093.5764 - 84ms/epoch - 4ms/step\n",
            "Epoch 3/100\n",
            "23/23 - 0s - loss: 1451.8184 - val_loss: 948.1331 - 76ms/epoch - 3ms/step\n",
            "Epoch 4/100\n",
            "23/23 - 0s - loss: 1206.4606 - val_loss: 737.0169 - 81ms/epoch - 4ms/step\n",
            "Epoch 5/100\n",
            "23/23 - 0s - loss: 872.5305 - val_loss: 490.9631 - 75ms/epoch - 3ms/step\n",
            "Epoch 6/100\n",
            "23/23 - 0s - loss: 542.7940 - val_loss: 293.3193 - 78ms/epoch - 3ms/step\n",
            "Epoch 7/100\n",
            "23/23 - 0s - loss: 331.0989 - val_loss: 203.6075 - 72ms/epoch - 3ms/step\n",
            "Epoch 8/100\n",
            "23/23 - 0s - loss: 259.8802 - val_loss: 173.0351 - 84ms/epoch - 4ms/step\n",
            "Epoch 9/100\n",
            "23/23 - 0s - loss: 232.7506 - val_loss: 163.7516 - 85ms/epoch - 4ms/step\n",
            "Epoch 10/100\n",
            "23/23 - 0s - loss: 216.7370 - val_loss: 160.2027 - 82ms/epoch - 4ms/step\n",
            "Epoch 11/100\n",
            "23/23 - 0s - loss: 205.7772 - val_loss: 159.0956 - 88ms/epoch - 4ms/step\n",
            "Epoch 12/100\n",
            "23/23 - 0s - loss: 197.0302 - val_loss: 155.9722 - 83ms/epoch - 4ms/step\n",
            "Epoch 13/100\n",
            "23/23 - 0s - loss: 189.2851 - val_loss: 154.5058 - 85ms/epoch - 4ms/step\n",
            "Epoch 14/100\n",
            "23/23 - 0s - loss: 183.2588 - val_loss: 154.0717 - 83ms/epoch - 4ms/step\n",
            "Epoch 15/100\n",
            "23/23 - 0s - loss: 178.1010 - val_loss: 151.1620 - 84ms/epoch - 4ms/step\n",
            "Epoch 16/100\n",
            "23/23 - 0s - loss: 173.0210 - val_loss: 150.9516 - 79ms/epoch - 3ms/step\n",
            "Epoch 17/100\n",
            "23/23 - 0s - loss: 169.6370 - val_loss: 149.5691 - 83ms/epoch - 4ms/step\n",
            "Epoch 18/100\n",
            "23/23 - 0s - loss: 165.4802 - val_loss: 150.1613 - 84ms/epoch - 4ms/step\n",
            "Epoch 19/100\n",
            "23/23 - 0s - loss: 162.3598 - val_loss: 150.0204 - 84ms/epoch - 4ms/step\n",
            "Epoch 20/100\n",
            "23/23 - 0s - loss: 159.6173 - val_loss: 146.4207 - 73ms/epoch - 3ms/step\n",
            "Epoch 21/100\n",
            "23/23 - 0s - loss: 156.8103 - val_loss: 147.8748 - 79ms/epoch - 3ms/step\n",
            "Epoch 22/100\n",
            "23/23 - 0s - loss: 154.7794 - val_loss: 147.7009 - 74ms/epoch - 3ms/step\n",
            "Epoch 23/100\n",
            "23/23 - 0s - loss: 152.6048 - val_loss: 146.2566 - 87ms/epoch - 4ms/step\n",
            "Epoch 24/100\n",
            "23/23 - 0s - loss: 150.6358 - val_loss: 146.5600 - 77ms/epoch - 3ms/step\n",
            "Epoch 25/100\n",
            "23/23 - 0s - loss: 148.3624 - val_loss: 146.7206 - 78ms/epoch - 3ms/step\n",
            "Epoch 26/100\n",
            "23/23 - 0s - loss: 146.1744 - val_loss: 146.3627 - 74ms/epoch - 3ms/step\n",
            "Epoch 27/100\n",
            "23/23 - 0s - loss: 144.4646 - val_loss: 147.4124 - 77ms/epoch - 3ms/step\n",
            "Epoch 28/100\n",
            "23/23 - 0s - loss: 142.4063 - val_loss: 145.6522 - 83ms/epoch - 4ms/step\n",
            "Epoch 29/100\n",
            "23/23 - 0s - loss: 140.6625 - val_loss: 147.7890 - 78ms/epoch - 3ms/step\n",
            "Epoch 30/100\n",
            "23/23 - 0s - loss: 139.0218 - val_loss: 146.3668 - 72ms/epoch - 3ms/step\n",
            "Epoch 31/100\n",
            "23/23 - 0s - loss: 137.1439 - val_loss: 147.4233 - 84ms/epoch - 4ms/step\n",
            "Epoch 32/100\n",
            "23/23 - 0s - loss: 136.1054 - val_loss: 148.0995 - 86ms/epoch - 4ms/step\n",
            "Epoch 33/100\n",
            "23/23 - 0s - loss: 133.8617 - val_loss: 148.2242 - 75ms/epoch - 3ms/step\n",
            "Epoch 34/100\n",
            "23/23 - 0s - loss: 132.0641 - val_loss: 147.4390 - 86ms/epoch - 4ms/step\n",
            "Epoch 35/100\n",
            "23/23 - 0s - loss: 131.1645 - val_loss: 146.6561 - 95ms/epoch - 4ms/step\n",
            "Epoch 36/100\n",
            "23/23 - 0s - loss: 129.3743 - val_loss: 146.6860 - 72ms/epoch - 3ms/step\n",
            "Epoch 37/100\n",
            "23/23 - 0s - loss: 127.3920 - val_loss: 148.3193 - 82ms/epoch - 4ms/step\n",
            "Epoch 38/100\n",
            "23/23 - 0s - loss: 126.1151 - val_loss: 149.8183 - 74ms/epoch - 3ms/step\n",
            "Epoch 39/100\n",
            "23/23 - 0s - loss: 124.0893 - val_loss: 150.7240 - 84ms/epoch - 4ms/step\n",
            "Epoch 40/100\n",
            "23/23 - 0s - loss: 123.2244 - val_loss: 146.5539 - 89ms/epoch - 4ms/step\n",
            "Epoch 41/100\n",
            "23/23 - 0s - loss: 120.9613 - val_loss: 152.8197 - 75ms/epoch - 3ms/step\n",
            "Epoch 42/100\n",
            "23/23 - 0s - loss: 119.4622 - val_loss: 147.6545 - 78ms/epoch - 3ms/step\n",
            "Epoch 43/100\n",
            "23/23 - 0s - loss: 117.5520 - val_loss: 149.0685 - 81ms/epoch - 4ms/step\n",
            "Epoch 44/100\n",
            "23/23 - 0s - loss: 115.2961 - val_loss: 150.5509 - 82ms/epoch - 4ms/step\n",
            "Epoch 45/100\n",
            "23/23 - 0s - loss: 113.6684 - val_loss: 149.8816 - 76ms/epoch - 3ms/step\n",
            "Epoch 46/100\n",
            "23/23 - 0s - loss: 111.1725 - val_loss: 148.8601 - 74ms/epoch - 3ms/step\n",
            "Epoch 47/100\n",
            "23/23 - 0s - loss: 109.0188 - val_loss: 149.5772 - 88ms/epoch - 4ms/step\n",
            "Epoch 48/100\n",
            "23/23 - 0s - loss: 107.3485 - val_loss: 149.8337 - 73ms/epoch - 3ms/step\n",
            "Epoch 49/100\n",
            "23/23 - 0s - loss: 105.1896 - val_loss: 146.8061 - 85ms/epoch - 4ms/step\n",
            "Epoch 50/100\n",
            "23/23 - 0s - loss: 101.4375 - val_loss: 148.9785 - 82ms/epoch - 4ms/step\n",
            "Epoch 51/100\n",
            "23/23 - 0s - loss: 99.3229 - val_loss: 149.2561 - 88ms/epoch - 4ms/step\n",
            "Epoch 52/100\n",
            "23/23 - 0s - loss: 96.8330 - val_loss: 146.0383 - 83ms/epoch - 4ms/step\n",
            "Epoch 53/100\n",
            "23/23 - 0s - loss: 94.4785 - val_loss: 147.5298 - 89ms/epoch - 4ms/step\n",
            "Epoch 54/100\n",
            "23/23 - 0s - loss: 91.7658 - val_loss: 146.3349 - 82ms/epoch - 4ms/step\n",
            "Epoch 55/100\n",
            "23/23 - 0s - loss: 88.7729 - val_loss: 143.0113 - 98ms/epoch - 4ms/step\n",
            "Epoch 56/100\n",
            "23/23 - 0s - loss: 87.1436 - val_loss: 146.4472 - 85ms/epoch - 4ms/step\n",
            "Epoch 57/100\n",
            "23/23 - 0s - loss: 84.5601 - val_loss: 145.5830 - 75ms/epoch - 3ms/step\n",
            "Epoch 58/100\n",
            "23/23 - 0s - loss: 81.8213 - val_loss: 138.9292 - 77ms/epoch - 3ms/step\n",
            "Epoch 59/100\n",
            "23/23 - 0s - loss: 78.9233 - val_loss: 147.3046 - 84ms/epoch - 4ms/step\n",
            "Epoch 60/100\n",
            "23/23 - 0s - loss: 76.7778 - val_loss: 137.5812 - 81ms/epoch - 4ms/step\n",
            "Epoch 61/100\n",
            "23/23 - 0s - loss: 74.4208 - val_loss: 143.8556 - 83ms/epoch - 4ms/step\n",
            "Epoch 62/100\n",
            "23/23 - 0s - loss: 72.5207 - val_loss: 136.8387 - 74ms/epoch - 3ms/step\n",
            "Epoch 63/100\n",
            "23/23 - 0s - loss: 70.2332 - val_loss: 142.1228 - 85ms/epoch - 4ms/step\n",
            "Epoch 64/100\n",
            "23/23 - 0s - loss: 68.0432 - val_loss: 133.0932 - 81ms/epoch - 4ms/step\n",
            "Epoch 65/100\n",
            "23/23 - 0s - loss: 66.5295 - val_loss: 135.7242 - 73ms/epoch - 3ms/step\n",
            "Epoch 66/100\n",
            "23/23 - 0s - loss: 65.0647 - val_loss: 130.5573 - 82ms/epoch - 4ms/step\n",
            "Epoch 67/100\n",
            "23/23 - 0s - loss: 63.6337 - val_loss: 132.6014 - 78ms/epoch - 3ms/step\n",
            "Epoch 68/100\n",
            "23/23 - 0s - loss: 61.7863 - val_loss: 130.6508 - 91ms/epoch - 4ms/step\n",
            "Epoch 69/100\n",
            "23/23 - 0s - loss: 59.9280 - val_loss: 135.8714 - 106ms/epoch - 5ms/step\n",
            "Epoch 70/100\n",
            "23/23 - 0s - loss: 58.5439 - val_loss: 131.2051 - 115ms/epoch - 5ms/step\n",
            "Epoch 71/100\n",
            "23/23 - 0s - loss: 56.7050 - val_loss: 127.6209 - 110ms/epoch - 5ms/step\n",
            "Epoch 72/100\n",
            "23/23 - 0s - loss: 55.5183 - val_loss: 132.4125 - 105ms/epoch - 5ms/step\n",
            "Epoch 73/100\n",
            "23/23 - 0s - loss: 54.8591 - val_loss: 127.3224 - 93ms/epoch - 4ms/step\n",
            "Epoch 74/100\n",
            "23/23 - 0s - loss: 52.8170 - val_loss: 130.2781 - 108ms/epoch - 5ms/step\n",
            "Epoch 75/100\n",
            "23/23 - 0s - loss: 51.2816 - val_loss: 129.5691 - 103ms/epoch - 4ms/step\n",
            "Epoch 76/100\n",
            "23/23 - 0s - loss: 50.2163 - val_loss: 128.2221 - 149ms/epoch - 6ms/step\n",
            "Epoch 77/100\n",
            "23/23 - 0s - loss: 49.6450 - val_loss: 129.1735 - 115ms/epoch - 5ms/step\n",
            "Epoch 78/100\n",
            "23/23 - 0s - loss: 48.5645 - val_loss: 129.0440 - 108ms/epoch - 5ms/step\n",
            "Epoch 79/100\n",
            "23/23 - 0s - loss: 47.1905 - val_loss: 132.1188 - 150ms/epoch - 7ms/step\n",
            "Epoch 80/100\n",
            "23/23 - 0s - loss: 46.4581 - val_loss: 130.5998 - 117ms/epoch - 5ms/step\n",
            "Epoch 81/100\n",
            "23/23 - 0s - loss: 46.8435 - val_loss: 136.2914 - 106ms/epoch - 5ms/step\n",
            "Epoch 82/100\n",
            "23/23 - 0s - loss: 45.0648 - val_loss: 133.4299 - 105ms/epoch - 5ms/step\n",
            "Epoch 83/100\n",
            "23/23 - 0s - loss: 44.2707 - val_loss: 128.1226 - 131ms/epoch - 6ms/step\n",
            "Epoch 84/100\n",
            "23/23 - 0s - loss: 43.4616 - val_loss: 131.5927 - 113ms/epoch - 5ms/step\n",
            "Epoch 85/100\n",
            "23/23 - 0s - loss: 42.8703 - val_loss: 131.5864 - 104ms/epoch - 5ms/step\n",
            "Epoch 86/100\n",
            "23/23 - 0s - loss: 42.2699 - val_loss: 136.3300 - 108ms/epoch - 5ms/step\n",
            "Epoch 87/100\n",
            "23/23 - 0s - loss: 41.7350 - val_loss: 136.3568 - 111ms/epoch - 5ms/step\n",
            "Epoch 88/100\n",
            "23/23 - 0s - loss: 41.0511 - val_loss: 125.8918 - 108ms/epoch - 5ms/step\n",
            "Epoch 89/100\n",
            "23/23 - 0s - loss: 41.1174 - val_loss: 133.6843 - 107ms/epoch - 5ms/step\n",
            "Epoch 90/100\n",
            "23/23 - 0s - loss: 40.4281 - val_loss: 128.5199 - 112ms/epoch - 5ms/step\n",
            "Epoch 91/100\n",
            "23/23 - 0s - loss: 39.8994 - val_loss: 131.7397 - 118ms/epoch - 5ms/step\n",
            "Epoch 92/100\n",
            "23/23 - 0s - loss: 39.1152 - val_loss: 138.7104 - 75ms/epoch - 3ms/step\n",
            "Epoch 93/100\n",
            "23/23 - 0s - loss: 38.4774 - val_loss: 131.3316 - 90ms/epoch - 4ms/step\n",
            "Epoch 94/100\n",
            "23/23 - 0s - loss: 38.8673 - val_loss: 136.9159 - 78ms/epoch - 3ms/step\n",
            "Epoch 95/100\n",
            "23/23 - 0s - loss: 38.2417 - val_loss: 144.0420 - 75ms/epoch - 3ms/step\n",
            "Epoch 96/100\n",
            "23/23 - 0s - loss: 37.7629 - val_loss: 121.5620 - 76ms/epoch - 3ms/step\n",
            "Epoch 97/100\n",
            "23/23 - 0s - loss: 37.0641 - val_loss: 143.2508 - 83ms/epoch - 4ms/step\n",
            "Epoch 98/100\n",
            "23/23 - 0s - loss: 37.1081 - val_loss: 127.7017 - 84ms/epoch - 4ms/step\n",
            "Epoch 99/100\n",
            "23/23 - 0s - loss: 36.9933 - val_loss: 143.1289 - 83ms/epoch - 4ms/step\n",
            "Epoch 100/100\n",
            "23/23 - 0s - loss: 36.4444 - val_loss: 136.1121 - 72ms/epoch - 3ms/step\n"
          ]
        },
        {
          "output_type": "execute_result",
          "data": {
            "text/plain": [
              "<keras.callbacks.History at 0x7cc2d84adb70>"
            ]
          },
          "metadata": {},
          "execution_count": 37
        }
      ]
    },
    {
      "cell_type": "code",
      "source": [
        "model.predict(predictors_scaled[6:12]) #Some predictions"
      ],
      "metadata": {
        "colab": {
          "base_uri": "https://localhost:8080/"
        },
        "id": "JEOhIvKYXcAS",
        "outputId": "e4b1bb30-1170-4045-f66d-c9e4afcbfb38"
      },
      "execution_count": 38,
      "outputs": [
        {
          "output_type": "stream",
          "name": "stdout",
          "text": [
            "1/1 [==============================] - 0s 109ms/step\n"
          ]
        },
        {
          "output_type": "execute_result",
          "data": {
            "text/plain": [
              "array([[49.503784],\n",
              "       [39.55519 ],\n",
              "       [36.523823],\n",
              "       [40.186188],\n",
              "       [34.690556],\n",
              "       [27.954294]], dtype=float32)"
            ]
          },
          "metadata": {},
          "execution_count": 38
        }
      ]
    },
    {
      "cell_type": "code",
      "source": [
        "print(target[6:12])"
      ],
      "metadata": {
        "colab": {
          "base_uri": "https://localhost:8080/"
        },
        "id": "inK1yA0BYOjS",
        "outputId": "2062ac08-2656-4406-d179-7a67f0f9d0ea"
      },
      "execution_count": 39,
      "outputs": [
        {
          "output_type": "stream",
          "name": "stdout",
          "text": [
            "6     43.70\n",
            "7     36.45\n",
            "8     45.85\n",
            "9     39.29\n",
            "10    38.07\n",
            "11    28.02\n",
            "Name: Strength, dtype: float64\n"
          ]
        }
      ]
    },
    {
      "cell_type": "markdown",
      "source": [
        "The predict values are so close from the original values"
      ],
      "metadata": {
        "id": "jaSsQ63ca-SR"
      }
    },
    {
      "cell_type": "code",
      "source": [],
      "metadata": {
        "id": "-kPbTds1a8SM"
      },
      "execution_count": null,
      "outputs": []
    }
  ]
}